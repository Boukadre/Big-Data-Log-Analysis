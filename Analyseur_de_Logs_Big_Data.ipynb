{
  "nbformat": 4,
  "nbformat_minor": 0,
  "metadata": {
    "colab": {
      "provenance": []
    },
    "kernelspec": {
      "name": "python3",
      "display_name": "Python 3"
    },
    "language_info": {
      "name": "python"
    }
  },
  "cells": [
    {
      "cell_type": "markdown",
      "source": [
        "\n",
        "# Projet : Analyseur de Logs Big Data (4.7M Lignes) en Python\n",
        "\n",
        "**Objectif :** Démontrer ma capacité à analyser un jeu de données \"Big Data\" (le dataset BGL de 4.7M lignes) qui ne tient pas en mémoire RAM.\n",
        "\n",
        "**Problématique :** Un fichier de log de cette taille (plusieurs Go) ne peut pas être chargé d'un coup avec Pandas (`pd.read_csv()`) sur une machine standard (comme Colab ou un PC portable) sans provoquer un \"Crash\" de mémoire (RAM saturée). Ce projet implémente une solution optimisée.\n",
        "\n",
        "**Démarche en 5 étapes :**\n",
        "1.  **Inspection :** Charger un petit échantillon pour comprendre la structure des logs.\n",
        "2.  **Configuration :** Définir des variables globales pour rendre le script réutilisable.\n",
        "3.  **Analyse (Comptage) :** Lire le fichier entier par \"morceaux\" (`chunks`) pour compter les niveaux d'erreur sans saturer la RAM.\n",
        "4.  **Extraction (Filtrage) :** Isoler les erreurs critiques (`FATAL`) dans un fichier séparé pour une analyse ciblée.\n",
        "5.  **Enquête (Cause Racine) :** Analyser le fichier d'erreurs propre pour identifier les composants et les messages \"coupables\".\n"
      ],
      "metadata": {
        "id": "Hdc39NsAZpZ9"
      }
    },
    {
      "cell_type": "code",
      "execution_count": 34,
      "metadata": {
        "id": "DHQMd40aBQ7-"
      },
      "outputs": [],
      "source": [
        "import pandas as pd\n",
        "from collections import Counter\n",
        "import time"
      ]
    },
    {
      "cell_type": "code",
      "source": [
        "# --- CONFIGURATION DU SCRIPT ---\n",
        "# L'utilisation de variables globales rend le script facile à adapter\n",
        "# pour un autre fichier de log sans toucher au code principal.\n",
        "\n",
        "# 1. Le chemin vers le fichier à analyser\n",
        "FILE_PATH = \"/content/BGL.log\"\n",
        "\n",
        "# 2. Le nombre de lignes à lire par morceau (pour la RAM)\n",
        "# Un \"chunk\" de 500k lignes est un bon équilibre entre vitesse et utilisation mémoire.\n",
        "CHUNK_SIZE = 500_000\n",
        "\n",
        "# 3. Le nombre maximum de \"splits\" par ligne.\n",
        "# On limite le split pour regrouper tout le message d'erreur dans la dernière colonne.\n",
        "SPLIT_LIMIT = 15\n",
        "\n",
        "# 4. La colonne à analyser (qu'on va trouver à l'étape d'inspection)\n",
        "# On l'initialise à 'None' pour forcer l'étape d'inspection.\n",
        "# C'est une sécurité pour ne pas analyser la mauvaise colonne.\n",
        "COLUMN_TO_ANALYZE = None\n",
        "\n",
        "# --- FIN DE LA CONFIGURATION ---\n",
        "\n",
        "print(\"Configuration chargée.\")\n",
        "print(f\"Fichier cible : {FILE_PATH}\")"
      ],
      "metadata": {
        "id": "SPxnvhwxDa2H",
        "colab": {
          "base_uri": "https://localhost:8080/"
        },
        "outputId": "e39cf260-7890-4ca5-ccf5-293b9913644d"
      },
      "execution_count": 35,
      "outputs": [
        {
          "output_type": "stream",
          "name": "stdout",
          "text": [
            "Configuration chargée.\n",
            "Fichier cible : /content/BGL.log\n"
          ]
        }
      ]
    },
    {
      "cell_type": "code",
      "source": [
        "print(\"--- Étape 1: Inspection (sur 1000 lignes) ---\")\n",
        "\n",
        "# On utilise 'nrows' pour ne lire qu'un petit échantillon.\n",
        "# C'est la seule façon d'inspecter un fichier \"Big Data\" sans saturer la RAM.\n",
        "try:\n",
        "    df_sample = pd.read_csv(FILE_PATH,\n",
        "                            header=None,\n",
        "                            names=['raw_line'],\n",
        "                            # 'sep' & 'engine': astuce pour forcer la lecture de chaque ligne\n",
        "                            # comme une chaîne unique, même si mal formatée.\n",
        "                            sep='delimiter',\n",
        "                            engine='python',\n",
        "                            nrows=1000) # On ne lit que 1000 lignes\n",
        "\n",
        "    # On applique le même split que celui prévu pour l'analyse\n",
        "    df_sample_split = df_sample['raw_line'].str.split(expand=True, n=SPLIT_LIMIT)\n",
        "\n",
        "    # On affiche les 5 premières lignes pour trouver le \"patron\"\n",
        "    print(\"Aperçu de la structure des logs :\")\n",
        "    # .head() est plus lisible et évite d'inonder l'output avec 1000 lignes.\n",
        "    print(df_sample_split.head())\n",
        "\n",
        "except FileNotFoundError:\n",
        "    print(f\"ERREUR : Le fichier {FILE_PATH} n'a pas été trouvé.\")\n",
        "except Exception as e:\n",
        "    print(f\"Une erreur est survenue : {e}\")"
      ],
      "metadata": {
        "colab": {
          "base_uri": "https://localhost:8080/"
        },
        "id": "dZybag1HmRX9",
        "outputId": "2dcc2940-14cf-4b62-f7ac-8b64d359e624"
      },
      "execution_count": 36,
      "outputs": [
        {
          "output_type": "stream",
          "name": "stdout",
          "text": [
            "--- Étape 1: Inspection (sur 1000 lignes) ---\n",
            "Aperçu de la structure des logs :\n",
            "         0           1           2                    3   \\\n",
            "0      -U01         RAS      KERNEL                FATAL   \n",
            "1  KERNDTLB  1118556389  2005.06.11  R30-M0-N9-C:J16-U01   \n",
            "2  KERNDTLB  1118556389  2005.06.11  R30-M0-N9-C:J16-U01   \n",
            "3  KERNDTLB  1118556389  2005.06.11  R30-M0-N9-C:J16-U01   \n",
            "4  KERNDTLB  1118556389  2005.06.11  R30-M0-N9-C:J16-U01   \n",
            "\n",
            "                           4                    5      6          7      8   \\\n",
            "0                        data                  TLB  error  interrupt   None   \n",
            "1  2005-06-11-23.06.29.011707  R30-M0-N9-C:J16-U01    RAS     KERNEL  FATAL   \n",
            "2  2005-06-11-23.06.29.234369  R30-M0-N9-C:J16-U01    RAS     KERNEL  FATAL   \n",
            "3  2005-06-11-23.06.29.384368  R30-M0-N9-C:J16-U01    RAS     KERNEL  FATAL   \n",
            "4  2005-06-11-23.06.29.486271  R30-M0-N9-C:J16-U01    RAS     KERNEL  FATAL   \n",
            "\n",
            "     9     10     11         12  \n",
            "0  None  None   None       None  \n",
            "1  data   TLB  error  interrupt  \n",
            "2  data   TLB  error  interrupt  \n",
            "3  data   TLB  error  interrupt  \n",
            "4  data   TLB  error  interrupt  \n"
          ]
        }
      ]
    },
    {
      "cell_type": "markdown",
      "source": [
        "### Conclusion de l'Inspection\n",
        "\n",
        "L'inspection de l'échantillon (ci-dessus) révèle deux choses :\n",
        "\n",
        "1.  **Les données sont \"sales\" :** La première ligne (index 0) n'a pas la même structure que les autres. C'est un cas typique de \"bruit\" en début de fichier.\n",
        "2.  **Le \"Patron\" est trouvé :** À partir de la ligne 1, la structure devient stable. On identifie que :\n",
        "    * La **colonne 3** contient le composant matériel (ex: `R30-M0-N9-C:J16-U01`).\n",
        "    * La **colonne 8** contient le niveau de criticité (`FATAL`, `INFO`, etc.).\n",
        "    * La **colonne 10** contient le début du message d'erreur."
      ],
      "metadata": {
        "id": "ocJWdINxmUy-"
      }
    },
    {
      "cell_type": "code",
      "source": [
        "# Mise à jour de notre variable de configuration\n",
        "COLUMN_TO_ANALYZE = 8\n",
        "\n",
        "print(f\"Configuration mise à jour : Colonne à analyser = {COLUMN_TO_ANALYZE}\")"
      ],
      "metadata": {
        "colab": {
          "base_uri": "https://localhost:8080/"
        },
        "id": "aMCQlFMGmkM-",
        "outputId": "37201f11-afad-4440-dc3b-29ea5fb5153a"
      },
      "execution_count": 37,
      "outputs": [
        {
          "output_type": "stream",
          "name": "stdout",
          "text": [
            "Configuration mise à jour : Colonne à analyser = 8\n"
          ]
        }
      ]
    },
    {
      "cell_type": "code",
      "source": [
        "# On s'assure que la colonne a bien été définie\n",
        "if COLUMN_TO_ANALYZE is None:\n",
        "    print(\"ERREUR : Vous devez d'abord exécuter l'étape d'inspection (Cellules 3 & 5).\")\n",
        "else:\n",
        "    print(f\"--- Étape 3: Démarrage de l'analyse complète (colonne {COLUMN_TO_ANALYZE}) ---\")\n",
        "    start_time = time.time()\n",
        "\n",
        "    # On crée le compteur ici pour qu'il soit remis à zéro à chaque exécution\n",
        "    global_counter = Counter()\n",
        "\n",
        "    try:\n",
        "        with open(FILE_PATH, \"r\", encoding=\"utf-8\", errors=\"ignore\") as f:\n",
        "            lines = []\n",
        "            chunk_num = 1\n",
        "            for i, line in enumerate(f, start=1):\n",
        "                lines.append(line.strip())\n",
        "\n",
        "                if i % CHUNK_SIZE == 0:\n",
        "                    print(f\"Traitement du morceau {chunk_num}...\")\n",
        "                    # On applique .strip() ici lors de la création du DataFrame pour nettoyer les lignes.\n",
        "                    chunk_df = pd.DataFrame(lines, columns=[\"raw_line\"])\n",
        "\n",
        "                    # On utilise les variables de CONFIGURATION\n",
        "                    cols = chunk_df[\"raw_line\"].str.split(expand=True, n=SPLIT_LIMIT)\n",
        "\n",
        "                    if cols.shape[1] > COLUMN_TO_ANALYZE:\n",
        "                        counts = cols.iloc[:, COLUMN_TO_ANALYZE].value_counts()\n",
        "                        global_counter.update(counts.to_dict())\n",
        "                    # Étape cruciale : on vide le \"seau\" (la liste)\n",
        "                    # pour libérer la RAM avant de traiter le morceau suivant.\n",
        "                    lines = []\n",
        "                    chunk_num += 1\n",
        "\n",
        "            # Traitement du dernier morceau\n",
        "            if lines:\n",
        "                print(f\"Traitement du dernier morceau (morceau {chunk_num})...\")\n",
        "                chunk_df = pd.DataFrame(lines, columns=[\"raw_line\"])\n",
        "                cols = chunk_df[\"raw_line\"].str.split(expand=True, n=SPLIT_LIMIT)\n",
        "\n",
        "                if cols.shape[1] > COLUMN_TO_ANALYZE:\n",
        "                    counts = cols.iloc[:, COLUMN_TO_ANALYZE].value_counts()\n",
        "                    global_counter.update(counts.to_dict())\n",
        "\n",
        "        end_time = time.time()\n",
        "        print(f\"\\n--- ANALYSE TERMINÉE EN {end_time - start_time:.2f} SECONDES ---\")\n",
        "\n",
        "    except FileNotFoundError:\n",
        "        print(f\"ERREUR : Le fichier {FILE_PATH} n'a pas été trouvé.\")\n",
        "    except Exception as e:\n",
        "        print(f\"Une erreur est survenue pendant l'analyse : {e}\")"
      ],
      "metadata": {
        "colab": {
          "base_uri": "https://localhost:8080/"
        },
        "id": "LgRC-rVQhQkF",
        "outputId": "cc2e9bae-f8a5-4a68-d2c1-9490973f24fd"
      },
      "execution_count": 38,
      "outputs": [
        {
          "output_type": "stream",
          "name": "stdout",
          "text": [
            "--- Étape 3: Démarrage de l'analyse complète (colonne 8) ---\n",
            "Traitement du morceau 1...\n",
            "Traitement du morceau 2...\n",
            "Traitement du morceau 3...\n",
            "Traitement du morceau 4...\n",
            "Traitement du morceau 5...\n",
            "Traitement du morceau 6...\n",
            "Traitement du morceau 7...\n",
            "Traitement du morceau 8...\n",
            "Traitement du dernier morceau (morceau 9)...\n",
            "\n",
            "--- ANALYSE TERMINÉE EN 43.19 SECONDES ---\n"
          ]
        }
      ]
    },
    {
      "cell_type": "code",
      "source": [
        "print(\"--- Étape 4: Résultats de l'analyse ---\")\n",
        "\n",
        "if 'global_counter' in locals():\n",
        "    # On convertit en Série Pandas pour un affichage propre\n",
        "    final_counts = pd.Series(global_counter).sort_values(ascending=False)\n",
        "\n",
        "    print(\"Top 20 des niveaux de logs trouvés :\")\n",
        "    print(final_counts.head(20))\n",
        "else:\n",
        "    print(\"L'analyse (Cellule 6) n'a pas encore été exécutée.\")"
      ],
      "metadata": {
        "colab": {
          "base_uri": "https://localhost:8080/"
        },
        "id": "eQnA5noTj62I",
        "outputId": "dc360181-e83a-4b76-8f38-47bf44464780"
      },
      "execution_count": 39,
      "outputs": [
        {
          "output_type": "stream",
          "name": "stdout",
          "text": [
            "--- Étape 4: Résultats de l'analyse ---\n",
            "Top 20 des niveaux de logs trouvés :\n",
            "INFO            3521574\n",
            "FATAL            707523\n",
            "ERROR            112340\n",
            "WARNING           23332\n",
            "SEVERE            19198\n",
            "FAILURE            1714\n",
            "Kill                306\n",
            "single                4\n",
            "microseconds          4\n",
            "0x00544eb8,           2\n",
            "dtype: int64\n"
          ]
        }
      ]
    },
    {
      "cell_type": "markdown",
      "source": [
        "### Étape 5 : Action (Extraction de la Menace)\n",
        "\n",
        "L'analyse nous a montré qu'il y a **707 523 erreurs FATAL**. Un analyste ne se contente pas de compter, il **isole la menace**.\n",
        "\n",
        "Le script suivant va relire le fichier et copier uniquement ces 707 523 lignes `FATAL` dans un nouveau fichier `FATAL_errors.log`. C'est sur ce fichier propre que nous mènerons notre enquête."
      ],
      "metadata": {
        "id": "x9oTdY5kmsiX"
      }
    },
    {
      "cell_type": "code",
      "source": [
        "print(\"--- Étape 5: Extraction des lignes 'FATAL' ---\")\n",
        "\n",
        "# Le nom du fichier de sortie\n",
        "OUTPUT_FILE_PATH = \"/content/FATAL_errors.log\"\n",
        "# Le mot-clé qu'on cherche\n",
        "KEYWORD_TO_EXTRACT = \"FATAL\"\n",
        "\n",
        "lines_found = 0\n",
        "start_time = time.time()\n",
        "\n",
        "try:\n",
        "    # 'w' = write (écrire). On crée le fichier de sortie\n",
        "    with open(OUTPUT_FILE_PATH, \"w\", encoding=\"utf-8\") as output_file:\n",
        "\n",
        "        # 'r' = read (lire). On lit le fichier d'entrée\n",
        "        with open(FILE_PATH, \"r\", encoding=\"utf-8\", errors=\"ignore\") as input_file:\n",
        "\n",
        "            lines = []\n",
        "            chunk_num = 1\n",
        "\n",
        "            for i, line in enumerate(input_file, start=1):\n",
        "                lines.append(line) # On garde le .strip() pour plus tard\n",
        "\n",
        "                if i % CHUNK_SIZE == 0:\n",
        "                    print(f\"Scan du morceau {chunk_num}...\")\n",
        "\n",
        "                    # On crée le DataFrame temporaire\n",
        "                    chunk_df = pd.DataFrame([l.strip() for l in lines], columns=[\"raw_line\"])\n",
        "                    cols = chunk_df[\"raw_line\"].str.split(expand=True, n=SPLIT_LIMIT)\n",
        "\n",
        "                    if cols.shape[1] > COLUMN_TO_ANALYZE:\n",
        "                        # On trouve les lignes où la colonne 8 == \"FATAL\"\n",
        "                        matching_lines = chunk_df[cols[COLUMN_TO_ANALYZE] == KEYWORD_TO_EXTRACT]\n",
        "\n",
        "                        # On écrit ces lignes dans le fichier de sortie\n",
        "                        for raw_line in matching_lines[\"raw_line\"]:\n",
        "                            output_file.write(raw_line + \"\\n\")\n",
        "                            lines_found += 1\n",
        "\n",
        "                    lines = []\n",
        "                    chunk_num += 1\n",
        "\n",
        "            # Traitement du dernier morceau\n",
        "            if lines:\n",
        "                print(f\"Scan du dernier morceau (morceau {chunk_num})...\")\n",
        "                chunk_df = pd.DataFrame([l.strip() for l in lines], columns=[\"raw_line\"])\n",
        "                cols = chunk_df[\"raw_line\"].str.split(expand=True, n=SPLIT_LIMIT)\n",
        "\n",
        "                if cols.shape[1] > COLUMN_TO_ANALYZE:\n",
        "                    matching_lines = chunk_df[cols[COLUMN_TO_ANALYZE] == KEYWORD_TO_EXTRACT]\n",
        "                    for raw_line in matching_lines[\"raw_line\"]:\n",
        "                        output_file.write(raw_line + \"\\n\")\n",
        "                        lines_found += 1\n",
        "\n",
        "    end_time = time.time()\n",
        "    print(f\"\\n--- EXTRACTION TERMINÉE EN {end_time - start_time:.2f} SECONDES ---\")\n",
        "    print(f\"{lines_found} lignes '{KEYWORD_TO_EXTRACT}' ont été trouvées.\")\n",
        "    print(f\"Elles sont sauvegardées dans : {OUTPUT_FILE_PATH}\")\n",
        "\n",
        "except Exception as e:\n",
        "    print(f\"Une erreur est survenue pendant l'extraction : {e}\")"
      ],
      "metadata": {
        "colab": {
          "base_uri": "https://localhost:8080/"
        },
        "id": "dCzo7JjtmrJr",
        "outputId": "d86b5dd4-57f5-4386-f411-99bc94ee4b9b"
      },
      "execution_count": 40,
      "outputs": [
        {
          "output_type": "stream",
          "name": "stdout",
          "text": [
            "--- Étape 5: Extraction des lignes 'FATAL' ---\n",
            "Scan du morceau 1...\n",
            "Scan du morceau 2...\n",
            "Scan du morceau 3...\n",
            "Scan du morceau 4...\n",
            "Scan du morceau 5...\n",
            "Scan du morceau 6...\n",
            "Scan du morceau 7...\n",
            "Scan du morceau 8...\n",
            "Scan du dernier morceau (morceau 9)...\n",
            "\n",
            "--- EXTRACTION TERMINÉE EN 42.92 SECONDES ---\n",
            "707523 lignes 'FATAL' ont été trouvées.\n",
            "Elles sont sauvegardées dans : /content/FATAL_errors.log\n"
          ]
        }
      ]
    },
    {
      "cell_type": "markdown",
      "source": [
        "\n",
        "### Étape 6 : Enquête (Analyse de Cause Racine)\n",
        "\n",
        "Maintenant que nous avons notre fichier `FATAL_errors.log` (707k lignes), il est devenu un fichier \"normal\" qui **tient en mémoire**.\n",
        "\n",
        "Nous n'avons plus besoin de \"chunks\". Nous pouvons le charger d'un coup pour l'analyser et répondre aux deux questions clés d'un analyste SOC :\n",
        "\n",
        "1.  **QUI est le coupable ?** (Quel composant génère le plus d'erreurs ?)\n",
        "2.  **QUOI est le problème ?** (Quel est le message d'erreur le plus fréquent ?)\n",
        "\n"
      ],
      "metadata": {
        "id": "-jrQRJh_cgf1"
      }
    },
    {
      "cell_type": "code",
      "source": [
        "print(\"--- Étape 6: Analyse de Cause Racine sur 'FATAL_errors.log' ---\")\n",
        "\n",
        "# 1. On charge notre NOUVEAU fichier (855k lignes, ça tient en RAM)\n",
        "try:\n",
        "    df_fatal = pd.read_csv(OUTPUT_FILE_PATH,\n",
        "                           header=None,\n",
        "                           names=['raw_line'],\n",
        "                           sep='delimiter',\n",
        "                           engine='python')\n",
        "\n",
        "    print(f\"Fichier '{OUTPUT_FILE_PATH}' chargé en mémoire ({len(df_fatal)} lignes).\")\n",
        "\n",
        "    # 2. On \"split\" ce DataFrame d'un seul coup\n",
        "    cols_fatal = df_fatal['raw_line'].str.split(expand=True, n=SPLIT_LIMIT)\n",
        "\n",
        "    # D'après l'inspection (Cellule 4), la colonne 3 contient le nom du composant.\n",
        "    # 3. ANALYSE - QUI ?\n",
        "    if 3 < cols_fatal.shape[1]:\n",
        "        print(\"\\n--- Top 10 des Composants 'Coupables' ---\")\n",
        "        # .value_counts() compte les occurrences de chaque composant\n",
        "        composants_coupables = cols_fatal[3].value_counts()\n",
        "        print(composants_coupables.head(10))\n",
        "\n",
        "    # D'après l'inspection (Cellule 4), la colonne 10 contient le début du message d'erreur.\n",
        "    # 4. ANALYSE - QUOI ? (Analyse de la Colonne 10 : Le Message)\n",
        "    if 10 < cols_fatal.shape[1]:\n",
        "        print(\"\\n--- Top 10 des Messages d'Erreur 'FATAL' ---\")\n",
        "        messages_erreur = cols_fatal[10].value_counts()\n",
        "        print(messages_erreur.head(10))\n",
        "\n",
        "except FileNotFoundError:\n",
        "    print(f\"ERREUR : Le fichier {OUTPUT_FILE_PATH} n'a pas été trouvé. Avez-vous exécuté l'Étape 5 ?\")\n",
        "except Exception as e:\n",
        "    print(f\"Une erreur est survenue : {e}\")"
      ],
      "metadata": {
        "colab": {
          "base_uri": "https://localhost:8080/"
        },
        "id": "3FWtn382mrG-",
        "outputId": "4fbce97f-36dc-4005-a0da-e2c47801992d"
      },
      "execution_count": 41,
      "outputs": [
        {
          "output_type": "stream",
          "name": "stdout",
          "text": [
            "--- Étape 6: Analyse de Cause Racine sur 'FATAL_errors.log' ---\n",
            "Fichier '/content/FATAL_errors.log' chargé en mémoire (707523 lignes).\n",
            "\n",
            "--- Top 10 des Composants 'Coupables' ---\n",
            "3\n",
            "R30-M0-N9-C:J16-U01    13397\n",
            "R71-M0-N4-C:J14-U01     1567\n",
            "R12-M0-N0-C:J12-U01     1385\n",
            "R03-M1-NF-C:J07-U01      966\n",
            "R36-M1-N0-C:J16-U11      585\n",
            "R21-M1-N7-C:J10-U11      435\n",
            "R03-M0-N7-C:J07-U01      395\n",
            "R30-M0-N1-C:J03-U11      395\n",
            "R55-M1-N3-C:J06-U11      394\n",
            "R62-M0-N4-C:J13-U01      367\n",
            "Name: count, dtype: int64\n",
            "\n",
            "--- Top 10 des Messages d'Erreur 'FATAL' ---\n",
            "10\n",
            "Error         177220\n",
            "storage        63491\n",
            "address:       61873\n",
            "interrupt:     53387\n",
            "LOGIN          42699\n",
            "mount          31531\n",
            "kernel         23338\n",
            "state          19333\n",
            "store          18718\n",
            "check:         14355\n",
            "Name: count, dtype: int64\n"
          ]
        }
      ]
    },
    {
      "cell_type": "markdown",
      "source": [
        "\n",
        "### Étape 7 : Visualisation (Communication des Résultats)\n",
        "\n",
        "Un tableau de chiffres est utile pour un analyste, mais un graphique est plus parlant pour un manager.\n",
        "\n",
        "Nous allons visualiser nos découvertes de l'Étape 6 pour rendre nos conclusions instantanément compréhensibles."
      ],
      "metadata": {
        "id": "dBzMLSCRcme1"
      }
    },
    {
      "cell_type": "code",
      "source": [
        "# --- Étape 6bis: Visualisation de la Cause Racine ---\n",
        "# (À ajouter à la fin de votre Cellule 10)\n",
        "\n",
        "import matplotlib.pyplot as plt\n",
        "\n",
        "# 1. Graphique pour les Composants\n",
        "if 'composants_coupables' in locals():\n",
        "    print(\"Génération du graphique 'Composants Coupables'...\")\n",
        "    composants_coupables.head(10).plot(kind='barh',\n",
        "                                     figsize=(10, 6),\n",
        "                                     title=\"Top 10 des Composants générant des 'FATAL'\",\n",
        "                                     color='orange')\n",
        "    plt.xlabel(\"Nombre d'erreurs FATAL\")\n",
        "    plt.gca().invert_yaxis() # Met le plus fréquent en haut\n",
        "    #Inverse l'axe Y pour afficher la barre la plus longue en haut.\n",
        "\n",
        "    # On sauvegarde le graphique\n",
        "    plt.savefig('fatal_components_chart.png', bbox_inches='tight')\n",
        "    # bbox_inches='tight' ajuste la taille pour que rien ne soit coupé.\n",
        "    plt.show() # Affiche le graphique dans Colab\n",
        "\n",
        "# 2. Graphique pour les Messages\n",
        "if 'messages_erreur' in locals():\n",
        "    print(\"Génération du graphique 'Messages d'Erreur'...\")\n",
        "    messages_erreur.head(10).plot(kind='barh',\n",
        "                                figsize=(10, 6),\n",
        "                                title=\"Top 10 des Messages d'erreur 'FATAL'\",\n",
        "                                color='crimson')\n",
        "    plt.xlabel(\"Nombre d'occurrences\")\n",
        "    plt.gca().invert_yaxis()\n",
        "\n",
        "    # On sauvegarde le graphique\n",
        "    plt.savefig('fatal_messages_chart.png', bbox_inches='tight')\n",
        "    plt.show() # Affiche le graphique dans Colab"
      ],
      "metadata": {
        "id": "IERjQTbTmq93",
        "colab": {
          "base_uri": "https://localhost:8080/",
          "height": 1000
        },
        "outputId": "0b85d5f8-56be-4f7a-d9a3-754fe94d001b"
      },
      "execution_count": 42,
      "outputs": [
        {
          "output_type": "stream",
          "name": "stdout",
          "text": [
            "Génération du graphique 'Composants Coupables'...\n"
          ]
        },
        {
          "output_type": "display_data",
          "data": {
            "text/plain": [
              "<Figure size 1000x600 with 1 Axes>"
            ],
            "image/png": "[encoded data removed]"
          },
          "metadata": {}
        },
        {
          "output_type": "stream",
          "name": "stdout",
          "text": [
            "Génération du graphique 'Messages d'Erreur'...\n"
          ]
        },
        {
          "output_type": "display_data",
          "data": {
            "text/plain": [
              "<Figure size 1000x600 with 1 Axes>"
            ],
            "image/png": "[encoded data removed]"
          },
          "metadata": {}
        }
      ]
    },
    {
      "cell_type": "markdown",
      "source": [
        "\n",
        "## Conclusion du Projet\n",
        "\n",
        "Ce notebook a démontré un cycle d'analyse complet sur un fichier de 4.7 millions de lignes, en surmontant la contrainte de la RAM grâce à une méthode de traitement par \"chunks\".\n",
        "\n",
        "**Résultat de l'enquête :**\n",
        "\n",
        "L'analyse a non seulement identifié **707 523 erreurs critiques (FATAL)**, mais a aussi pointé les coupables :\n",
        "\n",
        "1.  **Composant principal :** `R30-M0-N9-C:J16-U01` est le composant le plus défaillant, responsable de 13 397 erreurs à lui seul.\n",
        "2.  **Message principal :** Le message `Error` (177 220 occurrences) et `storage` (63 491 occurrences) sont les causes racines les plus fréquentes.\n",
        "\n",
        "Ce diagnostic permet à une équipe technique de cibler ses efforts de réparation sur les composants et les types d'erreurs les plus impactants.\n",
        "\n"
      ],
      "metadata": {
        "id": "rx2_7ijycr2V"
      }
    }
  ]
}